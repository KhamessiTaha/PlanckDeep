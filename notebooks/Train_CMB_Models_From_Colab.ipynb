{
  "nbformat": 4,
  "nbformat_minor": 0,
  "metadata": {
    "colab": {
      "provenance": [],
      "gpuType": "T4"
    },
    "kernelspec": {
      "name": "python3",
      "display_name": "Python 3"
    },
    "language_info": {
      "name": "python"
    },
    "accelerator": "GPU"
  },
  "cells": [
    {
      "cell_type": "markdown",
      "source": [
        "**Mount Google Drive & Setup**"
      ],
      "metadata": {
        "id": "71hPW8rZfmMq"
      }
    },
    {
      "cell_type": "code",
      "execution_count": 1,
      "metadata": {
        "colab": {
          "base_uri": "https://localhost:8080/"
        },
        "id": "J3ad-lELfPzV",
        "outputId": "df943d81-58f9-45a3-e7f3-cd76a790ad7f"
      },
      "outputs": [
        {
          "output_type": "stream",
          "name": "stdout",
          "text": [
            "Mounted at /content/drive\n",
            "Cloning into 'PlanckDeep'...\n",
            "remote: Enumerating objects: 115, done.\u001b[K\n",
            "remote: Counting objects: 100% (115/115), done.\u001b[K\n",
            "remote: Compressing objects: 100% (78/78), done.\u001b[K\n",
            "remote: Total 115 (delta 63), reused 89 (delta 37), pack-reused 0 (from 0)\u001b[K\n",
            "Receiving objects: 100% (115/115), 3.12 MiB | 31.63 MiB/s, done.\n",
            "Resolving deltas: 100% (63/63), done.\n"
          ]
        }
      ],
      "source": [
        "from google.colab import drive\n",
        "import os\n",
        "\n",
        "# Mount Drive\n",
        "drive.mount('/content/drive')\n",
        "\n",
        "# Define paths\n",
        "REPO_PATH = \"/content/PlanckDeep\"\n",
        "DATA_PATH = \"/content/PlanckDeep/data\"\n",
        "DRIVE_DATA_DIR = \"/content/drive/MyDrive/PlanckDeep/processed_data\"\n",
        "\n",
        "# Clone your repo (if not done already)\n",
        "!git clone https://github.com/KhamessiTaha/PlanckDeep.git\n",
        "\n",
        "# Create /data directory inside the repo\n",
        "os.makedirs(DATA_PATH, exist_ok=True)\n",
        "\n",
        "# Copy processed .npy files from Drive to /data\n",
        "!cp {DRIVE_DATA_DIR}/*.npy {DATA_PATH}/\n"
      ]
    },
    {
      "cell_type": "markdown",
      "source": [
        "**Install dependencies**"
      ],
      "metadata": {
        "id": "HhZ3v3gQfrdE"
      }
    },
    {
      "cell_type": "code",
      "source": [
        "!pip install numpy matplotlib scikit-learn torch torchvision tqdm seaborn"
      ],
      "metadata": {
        "id": "g9F8zZxNfWUa",
        "colab": {
          "base_uri": "https://localhost:8080/"
        },
        "outputId": "248f766a-e8b7-40a3-c046-ec10b967956e"
      },
      "execution_count": 2,
      "outputs": [
        {
          "output_type": "stream",
          "name": "stdout",
          "text": [
            "Requirement already satisfied: numpy in /usr/local/lib/python3.11/dist-packages (2.0.2)\n",
            "Requirement already satisfied: matplotlib in /usr/local/lib/python3.11/dist-packages (3.10.0)\n",
            "Requirement already satisfied: scikit-learn in /usr/local/lib/python3.11/dist-packages (1.6.1)\n",
            "Requirement already satisfied: torch in /usr/local/lib/python3.11/dist-packages (2.6.0+cu124)\n",
            "Requirement already satisfied: torchvision in /usr/local/lib/python3.11/dist-packages (0.21.0+cu124)\n",
            "Requirement already satisfied: tqdm in /usr/local/lib/python3.11/dist-packages (4.67.1)\n",
            "Requirement already satisfied: seaborn in /usr/local/lib/python3.11/dist-packages (0.13.2)\n",
            "Requirement already satisfied: contourpy>=1.0.1 in /usr/local/lib/python3.11/dist-packages (from matplotlib) (1.3.2)\n",
            "Requirement already satisfied: cycler>=0.10 in /usr/local/lib/python3.11/dist-packages (from matplotlib) (0.12.1)\n",
            "Requirement already satisfied: fonttools>=4.22.0 in /usr/local/lib/python3.11/dist-packages (from matplotlib) (4.58.4)\n",
            "Requirement already satisfied: kiwisolver>=1.3.1 in /usr/local/lib/python3.11/dist-packages (from matplotlib) (1.4.8)\n",
            "Requirement already satisfied: packaging>=20.0 in /usr/local/lib/python3.11/dist-packages (from matplotlib) (24.2)\n",
            "Requirement already satisfied: pillow>=8 in /usr/local/lib/python3.11/dist-packages (from matplotlib) (11.2.1)\n",
            "Requirement already satisfied: pyparsing>=2.3.1 in /usr/local/lib/python3.11/dist-packages (from matplotlib) (3.2.3)\n",
            "Requirement already satisfied: python-dateutil>=2.7 in /usr/local/lib/python3.11/dist-packages (from matplotlib) (2.9.0.post0)\n",
            "Requirement already satisfied: scipy>=1.6.0 in /usr/local/lib/python3.11/dist-packages (from scikit-learn) (1.15.3)\n",
            "Requirement already satisfied: joblib>=1.2.0 in /usr/local/lib/python3.11/dist-packages (from scikit-learn) (1.5.1)\n",
            "Requirement already satisfied: threadpoolctl>=3.1.0 in /usr/local/lib/python3.11/dist-packages (from scikit-learn) (3.6.0)\n",
            "Requirement already satisfied: filelock in /usr/local/lib/python3.11/dist-packages (from torch) (3.18.0)\n",
            "Requirement already satisfied: typing-extensions>=4.10.0 in /usr/local/lib/python3.11/dist-packages (from torch) (4.14.0)\n",
            "Requirement already satisfied: networkx in /usr/local/lib/python3.11/dist-packages (from torch) (3.5)\n",
            "Requirement already satisfied: jinja2 in /usr/local/lib/python3.11/dist-packages (from torch) (3.1.6)\n",
            "Requirement already satisfied: fsspec in /usr/local/lib/python3.11/dist-packages (from torch) (2025.3.2)\n",
            "Collecting nvidia-cuda-nvrtc-cu12==12.4.127 (from torch)\n",
            "  Downloading nvidia_cuda_nvrtc_cu12-12.4.127-py3-none-manylinux2014_x86_64.whl.metadata (1.5 kB)\n",
            "Collecting nvidia-cuda-runtime-cu12==12.4.127 (from torch)\n",
            "  Downloading nvidia_cuda_runtime_cu12-12.4.127-py3-none-manylinux2014_x86_64.whl.metadata (1.5 kB)\n",
            "Collecting nvidia-cuda-cupti-cu12==12.4.127 (from torch)\n",
            "  Downloading nvidia_cuda_cupti_cu12-12.4.127-py3-none-manylinux2014_x86_64.whl.metadata (1.6 kB)\n",
            "Collecting nvidia-cudnn-cu12==9.1.0.70 (from torch)\n",
            "  Downloading nvidia_cudnn_cu12-9.1.0.70-py3-none-manylinux2014_x86_64.whl.metadata (1.6 kB)\n",
            "Collecting nvidia-cublas-cu12==12.4.5.8 (from torch)\n",
            "  Downloading nvidia_cublas_cu12-12.4.5.8-py3-none-manylinux2014_x86_64.whl.metadata (1.5 kB)\n",
            "Collecting nvidia-cufft-cu12==11.2.1.3 (from torch)\n",
            "  Downloading nvidia_cufft_cu12-11.2.1.3-py3-none-manylinux2014_x86_64.whl.metadata (1.5 kB)\n",
            "Collecting nvidia-curand-cu12==10.3.5.147 (from torch)\n",
            "  Downloading nvidia_curand_cu12-10.3.5.147-py3-none-manylinux2014_x86_64.whl.metadata (1.5 kB)\n",
            "Collecting nvidia-cusolver-cu12==11.6.1.9 (from torch)\n",
            "  Downloading nvidia_cusolver_cu12-11.6.1.9-py3-none-manylinux2014_x86_64.whl.metadata (1.6 kB)\n",
            "Collecting nvidia-cusparse-cu12==12.3.1.170 (from torch)\n",
            "  Downloading nvidia_cusparse_cu12-12.3.1.170-py3-none-manylinux2014_x86_64.whl.metadata (1.6 kB)\n",
            "Requirement already satisfied: nvidia-cusparselt-cu12==0.6.2 in /usr/local/lib/python3.11/dist-packages (from torch) (0.6.2)\n",
            "Requirement already satisfied: nvidia-nccl-cu12==2.21.5 in /usr/local/lib/python3.11/dist-packages (from torch) (2.21.5)\n",
            "Requirement already satisfied: nvidia-nvtx-cu12==12.4.127 in /usr/local/lib/python3.11/dist-packages (from torch) (12.4.127)\n",
            "Collecting nvidia-nvjitlink-cu12==12.4.127 (from torch)\n",
            "  Downloading nvidia_nvjitlink_cu12-12.4.127-py3-none-manylinux2014_x86_64.whl.metadata (1.5 kB)\n",
            "Requirement already satisfied: triton==3.2.0 in /usr/local/lib/python3.11/dist-packages (from torch) (3.2.0)\n",
            "Requirement already satisfied: sympy==1.13.1 in /usr/local/lib/python3.11/dist-packages (from torch) (1.13.1)\n",
            "Requirement already satisfied: mpmath<1.4,>=1.1.0 in /usr/local/lib/python3.11/dist-packages (from sympy==1.13.1->torch) (1.3.0)\n",
            "Requirement already satisfied: pandas>=1.2 in /usr/local/lib/python3.11/dist-packages (from seaborn) (2.2.2)\n",
            "Requirement already satisfied: pytz>=2020.1 in /usr/local/lib/python3.11/dist-packages (from pandas>=1.2->seaborn) (2025.2)\n",
            "Requirement already satisfied: tzdata>=2022.7 in /usr/local/lib/python3.11/dist-packages (from pandas>=1.2->seaborn) (2025.2)\n",
            "Requirement already satisfied: six>=1.5 in /usr/local/lib/python3.11/dist-packages (from python-dateutil>=2.7->matplotlib) (1.17.0)\n",
            "Requirement already satisfied: MarkupSafe>=2.0 in /usr/local/lib/python3.11/dist-packages (from jinja2->torch) (3.0.2)\n",
            "Downloading nvidia_cublas_cu12-12.4.5.8-py3-none-manylinux2014_x86_64.whl (363.4 MB)\n",
            "\u001b[2K   \u001b[90m━━━━━━━━━━━━━━━━━━━━━━━━━━━━━━━━━━━━━━━━\u001b[0m \u001b[32m363.4/363.4 MB\u001b[0m \u001b[31m3.9 MB/s\u001b[0m eta \u001b[36m0:00:00\u001b[0m\n",
            "\u001b[?25hDownloading nvidia_cuda_cupti_cu12-12.4.127-py3-none-manylinux2014_x86_64.whl (13.8 MB)\n",
            "\u001b[2K   \u001b[90m━━━━━━━━━━━━━━━━━━━━━━━━━━━━━━━━━━━━━━━━\u001b[0m \u001b[32m13.8/13.8 MB\u001b[0m \u001b[31m102.2 MB/s\u001b[0m eta \u001b[36m0:00:00\u001b[0m\n",
            "\u001b[?25hDownloading nvidia_cuda_nvrtc_cu12-12.4.127-py3-none-manylinux2014_x86_64.whl (24.6 MB)\n",
            "\u001b[2K   \u001b[90m━━━━━━━━━━━━━━━━━━━━━━━━━━━━━━━━━━━━━━━━\u001b[0m \u001b[32m24.6/24.6 MB\u001b[0m \u001b[31m86.6 MB/s\u001b[0m eta \u001b[36m0:00:00\u001b[0m\n",
            "\u001b[?25hDownloading nvidia_cuda_runtime_cu12-12.4.127-py3-none-manylinux2014_x86_64.whl (883 kB)\n",
            "\u001b[2K   \u001b[90m━━━━━━━━━━━━━━━━━━━━━━━━━━━━━━━━━━━━━━━━\u001b[0m \u001b[32m883.7/883.7 kB\u001b[0m \u001b[31m56.9 MB/s\u001b[0m eta \u001b[36m0:00:00\u001b[0m\n",
            "\u001b[?25hDownloading nvidia_cudnn_cu12-9.1.0.70-py3-none-manylinux2014_x86_64.whl (664.8 MB)\n",
            "\u001b[2K   \u001b[90m━━━━━━━━━━━━━━━━━━━━━━━━━━━━━━━━━━━━━━━━\u001b[0m \u001b[32m664.8/664.8 MB\u001b[0m \u001b[31m2.7 MB/s\u001b[0m eta \u001b[36m0:00:00\u001b[0m\n",
            "\u001b[?25hDownloading nvidia_cufft_cu12-11.2.1.3-py3-none-manylinux2014_x86_64.whl (211.5 MB)\n",
            "\u001b[2K   \u001b[90m━━━━━━━━━━━━━━━━━━━━━━━━━━━━━━━━━━━━━━━━\u001b[0m \u001b[32m211.5/211.5 MB\u001b[0m \u001b[31m5.4 MB/s\u001b[0m eta \u001b[36m0:00:00\u001b[0m\n",
            "\u001b[?25hDownloading nvidia_curand_cu12-10.3.5.147-py3-none-manylinux2014_x86_64.whl (56.3 MB)\n",
            "\u001b[2K   \u001b[90m━━━━━━━━━━━━━━━━━━━━━━━━━━━━━━━━━━━━━━━━\u001b[0m \u001b[32m56.3/56.3 MB\u001b[0m \u001b[31m23.0 MB/s\u001b[0m eta \u001b[36m0:00:00\u001b[0m\n",
            "\u001b[?25hDownloading nvidia_cusolver_cu12-11.6.1.9-py3-none-manylinux2014_x86_64.whl (127.9 MB)\n",
            "\u001b[2K   \u001b[90m━━━━━━━━━━━━━━━━━━━━━━━━━━━━━━━━━━━━━━━━\u001b[0m \u001b[32m127.9/127.9 MB\u001b[0m \u001b[31m7.5 MB/s\u001b[0m eta \u001b[36m0:00:00\u001b[0m\n",
            "\u001b[?25hDownloading nvidia_cusparse_cu12-12.3.1.170-py3-none-manylinux2014_x86_64.whl (207.5 MB)\n",
            "\u001b[2K   \u001b[90m━━━━━━━━━━━━━━━━━━━━━━━━━━━━━━━━━━━━━━━━\u001b[0m \u001b[32m207.5/207.5 MB\u001b[0m \u001b[31m6.5 MB/s\u001b[0m eta \u001b[36m0:00:00\u001b[0m\n",
            "\u001b[?25hDownloading nvidia_nvjitlink_cu12-12.4.127-py3-none-manylinux2014_x86_64.whl (21.1 MB)\n",
            "\u001b[2K   \u001b[90m━━━━━━━━━━━━━━━━━━━━━━━━━━━━━━━━━━━━━━━━\u001b[0m \u001b[32m21.1/21.1 MB\u001b[0m \u001b[31m62.2 MB/s\u001b[0m eta \u001b[36m0:00:00\u001b[0m\n",
            "\u001b[?25hInstalling collected packages: nvidia-nvjitlink-cu12, nvidia-curand-cu12, nvidia-cufft-cu12, nvidia-cuda-runtime-cu12, nvidia-cuda-nvrtc-cu12, nvidia-cuda-cupti-cu12, nvidia-cublas-cu12, nvidia-cusparse-cu12, nvidia-cudnn-cu12, nvidia-cusolver-cu12\n",
            "  Attempting uninstall: nvidia-nvjitlink-cu12\n",
            "    Found existing installation: nvidia-nvjitlink-cu12 12.5.82\n",
            "    Uninstalling nvidia-nvjitlink-cu12-12.5.82:\n",
            "      Successfully uninstalled nvidia-nvjitlink-cu12-12.5.82\n",
            "  Attempting uninstall: nvidia-curand-cu12\n",
            "    Found existing installation: nvidia-curand-cu12 10.3.6.82\n",
            "    Uninstalling nvidia-curand-cu12-10.3.6.82:\n",
            "      Successfully uninstalled nvidia-curand-cu12-10.3.6.82\n",
            "  Attempting uninstall: nvidia-cufft-cu12\n",
            "    Found existing installation: nvidia-cufft-cu12 11.2.3.61\n",
            "    Uninstalling nvidia-cufft-cu12-11.2.3.61:\n",
            "      Successfully uninstalled nvidia-cufft-cu12-11.2.3.61\n",
            "  Attempting uninstall: nvidia-cuda-runtime-cu12\n",
            "    Found existing installation: nvidia-cuda-runtime-cu12 12.5.82\n",
            "    Uninstalling nvidia-cuda-runtime-cu12-12.5.82:\n",
            "      Successfully uninstalled nvidia-cuda-runtime-cu12-12.5.82\n",
            "  Attempting uninstall: nvidia-cuda-nvrtc-cu12\n",
            "    Found existing installation: nvidia-cuda-nvrtc-cu12 12.5.82\n",
            "    Uninstalling nvidia-cuda-nvrtc-cu12-12.5.82:\n",
            "      Successfully uninstalled nvidia-cuda-nvrtc-cu12-12.5.82\n",
            "  Attempting uninstall: nvidia-cuda-cupti-cu12\n",
            "    Found existing installation: nvidia-cuda-cupti-cu12 12.5.82\n",
            "    Uninstalling nvidia-cuda-cupti-cu12-12.5.82:\n",
            "      Successfully uninstalled nvidia-cuda-cupti-cu12-12.5.82\n",
            "  Attempting uninstall: nvidia-cublas-cu12\n",
            "    Found existing installation: nvidia-cublas-cu12 12.5.3.2\n",
            "    Uninstalling nvidia-cublas-cu12-12.5.3.2:\n",
            "      Successfully uninstalled nvidia-cublas-cu12-12.5.3.2\n",
            "  Attempting uninstall: nvidia-cusparse-cu12\n",
            "    Found existing installation: nvidia-cusparse-cu12 12.5.1.3\n",
            "    Uninstalling nvidia-cusparse-cu12-12.5.1.3:\n",
            "      Successfully uninstalled nvidia-cusparse-cu12-12.5.1.3\n",
            "  Attempting uninstall: nvidia-cudnn-cu12\n",
            "    Found existing installation: nvidia-cudnn-cu12 9.3.0.75\n",
            "    Uninstalling nvidia-cudnn-cu12-9.3.0.75:\n",
            "      Successfully uninstalled nvidia-cudnn-cu12-9.3.0.75\n",
            "  Attempting uninstall: nvidia-cusolver-cu12\n",
            "    Found existing installation: nvidia-cusolver-cu12 11.6.3.83\n",
            "    Uninstalling nvidia-cusolver-cu12-11.6.3.83:\n",
            "      Successfully uninstalled nvidia-cusolver-cu12-11.6.3.83\n",
            "Successfully installed nvidia-cublas-cu12-12.4.5.8 nvidia-cuda-cupti-cu12-12.4.127 nvidia-cuda-nvrtc-cu12-12.4.127 nvidia-cuda-runtime-cu12-12.4.127 nvidia-cudnn-cu12-9.1.0.70 nvidia-cufft-cu12-11.2.1.3 nvidia-curand-cu12-10.3.5.147 nvidia-cusolver-cu12-11.6.1.9 nvidia-cusparse-cu12-12.3.1.170 nvidia-nvjitlink-cu12-12.4.127\n"
          ]
        }
      ]
    },
    {
      "cell_type": "markdown",
      "source": [
        "**Check data loaded properly**"
      ],
      "metadata": {
        "id": "18jdwisQfyOg"
      }
    },
    {
      "cell_type": "code",
      "source": [
        "import numpy as np\n",
        "import os\n",
        "\n",
        "patches = np.load(os.path.join(DATA_PATH, \"cmb_patches_enhanced.npy\"))\n",
        "labels = np.load(os.path.join(DATA_PATH, \"cmb_temperature_labels.npy\"))\n",
        "\n",
        "print(\"✓ Loaded patches:\", patches.shape)\n",
        "print(\"✓ Loaded labels:\", labels.shape)\n",
        "print(\"Unique labels:\", np.unique(labels))\n",
        "print(\"Class distribution:\", np.bincount(labels))"
      ],
      "metadata": {
        "id": "WOqKJXPifWAh",
        "colab": {
          "base_uri": "https://localhost:8080/"
        },
        "outputId": "2bb5988b-e905-4801-8dc0-589a4255ceea"
      },
      "execution_count": 3,
      "outputs": [
        {
          "output_type": "stream",
          "name": "stdout",
          "text": [
            "✓ Loaded patches: (5000, 128, 128)\n",
            "✓ Loaded labels: (5000,)\n",
            "Unique labels: [0 1]\n",
            "Class distribution: [3332 1668]\n"
          ]
        }
      ]
    },
    {
      "cell_type": "code",
      "source": [
        "# Determine if binary classification\n",
        "is_binary = len(np.unique(labels)) == 2\n",
        "print(f\"Binary classification: {is_binary}\")"
      ],
      "metadata": {
        "colab": {
          "base_uri": "https://localhost:8080/"
        },
        "id": "tm8ehaejohXS",
        "outputId": "5b8d22cc-20b7-4b88-83d4-b484aab1c5c9"
      },
      "execution_count": 4,
      "outputs": [
        {
          "output_type": "stream",
          "name": "stdout",
          "text": [
            "Binary classification: True\n"
          ]
        }
      ]
    },
    {
      "cell_type": "markdown",
      "source": [
        "**Train models from script**"
      ],
      "metadata": {
        "id": "xp6t9_twf_Mg"
      }
    },
    {
      "cell_type": "code",
      "source": [
        "%cd /content/PlanckDeep/src\n",
        "\n",
        "!python train_all_models.py \\\n",
        "  --patch_file ../data/cmb_patches_enhanced.npy \\\n",
        "  --label_file ../data/cmb_temperature_labels.npy \\\n",
        "  --models improved_cnn resnet physics_informed \\\n",
        "  --epochs 20 \\\n",
        "  --batch_size 32 \\\n",
        "  --use_class_weights \\\n",
        "  --use_early_stopping \\\n",
        "  --lr_scheduler cosine \\\n",
        "  --experiment_name deep_cmb_colab_run \\\n",
        "  --binary_classification\n"
      ],
      "metadata": {
        "id": "ThpCvzlyfV9w",
        "colab": {
          "base_uri": "https://localhost:8080/"
        },
        "outputId": "49915e6d-6bbb-44d2-9681-703bc2748ad7"
      },
      "execution_count": 10,
      "outputs": [
        {
          "output_type": "stream",
          "name": "stdout",
          "text": [
            "/content/PlanckDeep/src\n",
            "Using device: cuda\n",
            "GPU: Tesla T4\n",
            "GPU Memory: 14.74 GB\n",
            "Experiment directory: experiments/deep_cmb_colab_run\n",
            "Binary classification mode: True\n",
            "Loading and preparing datasets...\n",
            "Loaded 5000 patches with shape (128, 128)\n",
            "Number of classes: 2\n",
            "Class distribution: [3332 1668]\n",
            "Dataset loaded: 5000 patches\n",
            "Patch shape: torch.Size([1, 128, 128])\n",
            "Class distribution: [3332, 1668]\n",
            "Dataset splits - Train: 3500, Val: 1000, Test: 500\n",
            "Positive class weight: 2.0198\n",
            "\n",
            "============================================================\n",
            "Training IMPROVED_CNN Model\n",
            "============================================================\n",
            "\n",
            "Creating improved_cnn model...\n",
            "Model parameters: 10,649,281 total, 10,649,281 trainable\n",
            "Epoch 1/20 (6.51s) - Train Loss: 0.932390, Train Acc: 0.5923, Val Loss: 0.925628, Val Acc: 0.6719, LR: 1.00e-03\n",
            "Epoch 2/20 (5.04s) - Train Loss: 0.929439, Train Acc: 0.6269, Val Loss: 0.924283, Val Acc: 0.4609, LR: 9.94e-04\n",
            "Epoch 3/20 (4.42s) - Train Loss: 0.928361, Train Acc: 0.4753, Val Loss: 0.926063, Val Acc: 0.5596, LR: 9.76e-04\n",
            "Epoch 4/20 (4.98s) - Train Loss: 0.927706, Train Acc: 0.4915, Val Loss: 0.925129, Val Acc: 0.6719, LR: 9.46e-04\n",
            "Epoch 5/20 (4.41s) - Train Loss: 0.926951, Train Acc: 0.4269, Val Loss: 0.924604, Val Acc: 0.4971, LR: 9.05e-04\n",
            "Epoch 6/20 (4.42s) - Train Loss: 0.926860, Train Acc: 0.4842, Val Loss: 0.925167, Val Acc: 0.6719, LR: 8.54e-04\n",
            "Epoch 7/20 (4.82s) - Train Loss: 0.927566, Train Acc: 0.4506, Val Loss: 0.925213, Val Acc: 0.4121, LR: 7.94e-04\n",
            "Epoch 8/20 (4.40s) - Train Loss: 0.927630, Train Acc: 0.4977, Val Loss: 0.925391, Val Acc: 0.5557, LR: 7.27e-04\n",
            "Epoch 9/20 (4.45s) - Train Loss: 0.928118, Train Acc: 0.4641, Val Loss: 0.924439, Val Acc: 0.4258, LR: 6.55e-04\n",
            "Epoch 10/20 (5.13s) - Train Loss: 0.927088, Train Acc: 0.4163, Val Loss: 0.925681, Val Acc: 0.4951, LR: 5.79e-04\n",
            "Epoch 11/20 (4.52s) - Train Loss: 0.926006, Train Acc: 0.4585, Val Loss: 0.926524, Val Acc: 0.5596, LR: 5.01e-04\n",
            "Epoch 12/20 (4.44s) - Train Loss: 0.927258, Train Acc: 0.4524, Val Loss: 0.924996, Val Acc: 0.5488, LR: 4.22e-04\n",
            "Restoring model weights from epoch with best validation loss: 0.924283\n",
            "Early stopping triggered at epoch 12\n",
            "Training completed in 57.55 seconds\n",
            "Training completed in 57.55 seconds\n",
            "Figure(1500x1000)\n",
            "\n",
            "============================================================\n",
            "Training RESNET Model\n",
            "============================================================\n",
            "\n",
            "Creating resnet model...\n",
            "Model parameters: 11,257,793 total, 11,257,793 trainable\n",
            "Epoch 1/20 (7.67s) - Train Loss: 0.961000, Train Acc: 0.5113, Val Loss: 0.965921, Val Acc: 0.3936, LR: 1.00e-03\n",
            "Epoch 2/20 (7.65s) - Train Loss: 0.944355, Train Acc: 0.5112, Val Loss: 0.933473, Val Acc: 0.4746, LR: 9.94e-04\n",
            "Epoch 3/20 (7.53s) - Train Loss: 0.953397, Train Acc: 0.5013, Val Loss: 0.931273, Val Acc: 0.4111, LR: 9.76e-04\n",
            "Epoch 4/20 (6.92s) - Train Loss: 0.930710, Train Acc: 0.5416, Val Loss: 0.946059, Val Acc: 0.6123, LR: 9.46e-04\n",
            "Epoch 5/20 (6.64s) - Train Loss: 0.931227, Train Acc: 0.5310, Val Loss: 0.942623, Val Acc: 0.6074, LR: 9.05e-04\n",
            "Epoch 6/20 (7.07s) - Train Loss: 0.932993, Train Acc: 0.5372, Val Loss: 0.955845, Val Acc: 0.6592, LR: 8.54e-04\n",
            "Epoch 7/20 (7.32s) - Train Loss: 0.928114, Train Acc: 0.5385, Val Loss: 0.930739, Val Acc: 0.5088, LR: 7.94e-04\n",
            "Epoch 8/20 (7.12s) - Train Loss: 0.923317, Train Acc: 0.5450, Val Loss: 0.952888, Val Acc: 0.6123, LR: 7.27e-04\n",
            "Epoch 9/20 (6.81s) - Train Loss: 0.909150, Train Acc: 0.5691, Val Loss: 0.971467, Val Acc: 0.6230, LR: 6.55e-04\n",
            "Epoch 10/20 (7.37s) - Train Loss: 0.916231, Train Acc: 0.5680, Val Loss: 0.966695, Val Acc: 0.3984, LR: 5.79e-04\n",
            "Epoch 11/20 (6.94s) - Train Loss: 0.901146, Train Acc: 0.5765, Val Loss: 0.952701, Val Acc: 0.5615, LR: 5.01e-04\n",
            "Epoch 12/20 (7.29s) - Train Loss: 0.899776, Train Acc: 0.5936, Val Loss: 0.955251, Val Acc: 0.5312, LR: 4.22e-04\n",
            "Epoch 13/20 (7.22s) - Train Loss: 0.882311, Train Acc: 0.6096, Val Loss: 0.982024, Val Acc: 0.4326, LR: 3.46e-04\n",
            "Epoch 14/20 (7.23s) - Train Loss: 0.862019, Train Acc: 0.6335, Val Loss: 0.991212, Val Acc: 0.4717, LR: 2.74e-04\n",
            "Epoch 15/20 (7.41s) - Train Loss: 0.845202, Train Acc: 0.6617, Val Loss: 0.989380, Val Acc: 0.5078, LR: 2.07e-04\n",
            "Epoch 16/20 (7.15s) - Train Loss: 0.792469, Train Acc: 0.6971, Val Loss: 1.065388, Val Acc: 0.5469, LR: 1.47e-04\n",
            "Epoch 17/20 (7.41s) - Train Loss: 0.757881, Train Acc: 0.7241, Val Loss: 1.100170, Val Acc: 0.5273, LR: 9.64e-05\n",
            "Restoring model weights from epoch with best validation loss: 0.930739\n",
            "Early stopping triggered at epoch 17\n",
            "Training completed in 122.77 seconds\n",
            "Training completed in 122.77 seconds\n",
            "Figure(1500x1000)\n",
            "\n",
            "============================================================\n",
            "Training PHYSICS_INFORMED Model\n",
            "============================================================\n",
            "\n",
            "Creating physics_informed model...\n",
            "Model parameters: 2,013,185 total, 2,013,185 trainable\n",
            "Epoch 1/20 (40.49s) - Train Loss: 0.936814, Train Acc: 0.4955, Val Loss: 0.925050, Val Acc: 0.3867, LR: 1.00e-03\n",
            "Epoch 2/20 (39.30s) - Train Loss: 0.930887, Train Acc: 0.5257, Val Loss: 0.927440, Val Acc: 0.3896, LR: 9.94e-04\n",
            "Epoch 3/20 (39.38s) - Train Loss: 0.929149, Train Acc: 0.4681, Val Loss: 0.927367, Val Acc: 0.5098, LR: 9.76e-04\n",
            "Epoch 4/20 (39.22s) - Train Loss: 0.927875, Train Acc: 0.5159, Val Loss: 0.925158, Val Acc: 0.4717, LR: 9.46e-04\n",
            "Epoch 5/20 (39.38s) - Train Loss: 0.927280, Train Acc: 0.5681, Val Loss: 0.924893, Val Acc: 0.4268, LR: 9.05e-04\n",
            "Epoch 6/20 (39.62s) - Train Loss: 0.927201, Train Acc: 0.4993, Val Loss: 0.924799, Val Acc: 0.3936, LR: 8.54e-04\n",
            "Epoch 7/20 (39.50s) - Train Loss: 0.926693, Train Acc: 0.4835, Val Loss: 0.927102, Val Acc: 0.3955, LR: 7.94e-04\n",
            "Epoch 8/20 (39.45s) - Train Loss: 0.927675, Train Acc: 0.4683, Val Loss: 0.928019, Val Acc: 0.5107, LR: 7.27e-04\n",
            "Epoch 9/20 (39.73s) - Train Loss: 0.925654, Train Acc: 0.4937, Val Loss: 0.923239, Val Acc: 0.4453, LR: 6.55e-04\n",
            "Epoch 10/20 (39.33s) - Train Loss: 0.927071, Train Acc: 0.4577, Val Loss: 0.924779, Val Acc: 0.4668, LR: 5.79e-04\n",
            "Epoch 11/20 (39.57s) - Train Loss: 0.925477, Train Acc: 0.4686, Val Loss: 0.922724, Val Acc: 0.4912, LR: 5.01e-04\n",
            "Epoch 12/20 (39.35s) - Train Loss: 0.926157, Train Acc: 0.4651, Val Loss: 0.924659, Val Acc: 0.4248, LR: 4.22e-04\n",
            "Epoch 13/20 (39.47s) - Train Loss: 0.923949, Train Acc: 0.4884, Val Loss: 0.923988, Val Acc: 0.3994, LR: 3.46e-04\n",
            "Epoch 14/20 (39.11s) - Train Loss: 0.923875, Train Acc: 0.4652, Val Loss: 0.924557, Val Acc: 0.4785, LR: 2.74e-04\n",
            "Epoch 15/20 (39.05s) - Train Loss: 0.921862, Train Acc: 0.4883, Val Loss: 0.926574, Val Acc: 0.4512, LR: 2.07e-04\n",
            "Epoch 16/20 (39.03s) - Train Loss: 0.919842, Train Acc: 0.5005, Val Loss: 0.925760, Val Acc: 0.5010, LR: 1.47e-04\n",
            "Epoch 17/20 (39.40s) - Train Loss: 0.920461, Train Acc: 0.5295, Val Loss: 0.923833, Val Acc: 0.4922, LR: 9.64e-05\n",
            "Epoch 18/20 (39.06s) - Train Loss: 0.920496, Train Acc: 0.5147, Val Loss: 0.923694, Val Acc: 0.4805, LR: 5.54e-05\n",
            "Epoch 19/20 (39.48s) - Train Loss: 0.916853, Train Acc: 0.5032, Val Loss: 0.919223, Val Acc: 0.4746, LR: 2.54e-05\n",
            "Epoch 20/20 (38.95s) - Train Loss: 0.914512, Train Acc: 0.5226, Val Loss: 0.923526, Val Acc: 0.4873, LR: 7.15e-06\n",
            "Training completed in 787.88 seconds\n",
            "Training completed in 787.88 seconds\n",
            "Figure(1500x1000)\n",
            "\n",
            "============================================================\n",
            "EVALUATING ALL MODELS ON TEST SET\n",
            "============================================================\n",
            "\n",
            "Evaluating improved_cnn...\n",
            "Loaded best model from epoch 2\n",
            "Figure(500x1000)\n",
            "improved_cnn Test Results:\n",
            "  Accuracy: 0.4495\n",
            "  ROC AUC: 0.5585\n",
            "  Avg Precision: 0.3887\n",
            "\n",
            "Evaluating resnet...\n",
            "Loaded best model from epoch 7\n",
            "Figure(500x1000)\n",
            "resnet Test Results:\n",
            "  Accuracy: 0.4988\n",
            "  ROC AUC: 0.5492\n",
            "  Avg Precision: 0.3922\n",
            "\n",
            "Evaluating physics_informed...\n",
            "Loaded best model from epoch 19\n",
            "Figure(500x1000)\n",
            "physics_informed Test Results:\n",
            "  Accuracy: 0.4686\n",
            "  ROC AUC: 0.5493\n",
            "  Avg Precision: 0.3753\n",
            "\n",
            "============================================================\n",
            "MODEL COMPARISON REPORT\n",
            "============================================================\n",
            "\n",
            "Model Comparison Table:\n",
            "----------------------------------------------------------------------------------------------------\n",
            "          Model |      Parameters | Training Time (s) |    Best Val Acc |   Test Accuracy |         ROC AUC |   Avg Precision\n",
            "----------------------------------------------------------------------------------------------------\n",
            "   improved_cnn |      10,649,281 |            57.5 |          0.6719 |          0.4495 |          0.5585 |          0.3887\n",
            "         resnet |      11,257,793 |           122.8 |          0.6592 |          0.4988 |          0.5492 |          0.3922\n",
            "physics_informed |       2,013,185 |           787.9 |          0.5107 |          0.4686 |          0.5493 |          0.3753\n",
            "----------------------------------------------------------------------------------------------------\n",
            "\n",
            "============================================================\n",
            "EXPERIMENT COMPLETED SUCCESSFULLY!\n",
            "============================================================\n",
            "Results saved in: experiments/deep_cmb_colab_run\n",
            "Trained 3 models: ['improved_cnn', 'resnet', 'physics_informed']\n",
            "Best performing model: resnet (Accuracy: 0.4988)\n",
            "\n",
            "Experiment completed at: 2025-06-21 10:40:04\n"
          ]
        }
      ]
    },
    {
      "cell_type": "markdown",
      "source": [
        "**Save experiment results back to Drive**"
      ],
      "metadata": {
        "id": "mlERiLTkgKrQ"
      }
    },
    {
      "cell_type": "code",
      "source": [
        "# Copy the full experiment directory back to Drive\n",
        "EXPERIMENT_NAME = \"deep_cmb_colab_run\"\n",
        "SRC = f\"experiments/{EXPERIMENT_NAME}\"\n",
        "DST = f\"/content/drive/MyDrive/PlanckDeep/experiments/{EXPERIMENT_NAME}\"\n",
        "\n",
        "!mkdir -p \"{DST}\"\n",
        "!cp -r {SRC}/* \"{DST}/\"\n",
        "\n",
        "print(\"✓ Results copied to Drive:\")\n",
        "print(DST)\n"
      ],
      "metadata": {
        "id": "KME6sEmLfV7L",
        "colab": {
          "base_uri": "https://localhost:8080/"
        },
        "outputId": "0c3f9749-15f6-48ec-df2c-c1a378813c84"
      },
      "execution_count": 11,
      "outputs": [
        {
          "output_type": "stream",
          "name": "stdout",
          "text": [
            "✓ Results copied to Drive:\n",
            "/content/drive/MyDrive/PlanckDeep/experiments/deep_cmb_colab_run\n"
          ]
        }
      ]
    },
    {
      "cell_type": "code",
      "source": [
        "# Cell X: Auto-resume from last checkpoint if available\n",
        "\n",
        "import os\n",
        "\n",
        "CHECKPOINT_PATH = f\"/content/PlanckDeep/experiments/deep_cmb_colab_run/checkpoints\"\n",
        "RESUME_FLAG = \"\"\n",
        "\n",
        "if os.path.exists(CHECKPOINT_PATH):\n",
        "    checkpoints = [f for f in os.listdir(CHECKPOINT_PATH) if f.startswith(\"checkpoint_epoch_\")]\n",
        "    if checkpoints:\n",
        "        last_checkpoint = sorted(checkpoints, key=lambda x: int(x.split(\"_\")[-1].split(\".\")[0]))[-1]\n",
        "        RESUME_FLAG = f\"--resume {os.path.join(CHECKPOINT_PATH, last_checkpoint)}\"\n",
        "        print(f\"✓ Resuming from checkpoint: {last_checkpoint}\")\n",
        "    else:\n",
        "        print(\"⚠️ No checkpoints found. Starting fresh.\")\n",
        "else:\n",
        "    print(\"🆕 No checkpoint directory found. Starting from scratch.\")\n"
      ],
      "metadata": {
        "colab": {
          "base_uri": "https://localhost:8080/"
        },
        "id": "eAYQtgYYxM6K",
        "outputId": "1a007cd2-262b-47a7-ff60-573f1677a664"
      },
      "execution_count": 7,
      "outputs": [
        {
          "output_type": "stream",
          "name": "stdout",
          "text": [
            "🆕 No checkpoint directory found. Starting from scratch.\n"
          ]
        }
      ]
    },
    {
      "cell_type": "code",
      "source": [
        "!git pull https://github.com/KhamessiTaha/PlanckDeep"
      ],
      "metadata": {
        "colab": {
          "base_uri": "https://localhost:8080/"
        },
        "id": "GU4FLzL6Ay8c",
        "outputId": "825e7559-5a18-4c24-89ea-0895e85c9e17"
      },
      "execution_count": 9,
      "outputs": [
        {
          "output_type": "stream",
          "name": "stdout",
          "text": [
            "remote: Enumerating objects: 9, done.\u001b[K\n",
            "remote: Counting objects:  11% (1/9)\u001b[K\rremote: Counting objects:  22% (2/9)\u001b[K\rremote: Counting objects:  33% (3/9)\u001b[K\rremote: Counting objects:  44% (4/9)\u001b[K\rremote: Counting objects:  55% (5/9)\u001b[K\rremote: Counting objects:  66% (6/9)\u001b[K\rremote: Counting objects:  77% (7/9)\u001b[K\rremote: Counting objects:  88% (8/9)\u001b[K\rremote: Counting objects: 100% (9/9)\u001b[K\rremote: Counting objects: 100% (9/9), done.\u001b[K\n",
            "remote: Compressing objects:  50% (1/2)\u001b[K\rremote: Compressing objects: 100% (2/2)\u001b[K\rremote: Compressing objects: 100% (2/2), done.\u001b[K\n",
            "remote: Total 5 (delta 3), reused 5 (delta 3), pack-reused 0 (from 0)\u001b[K\n",
            "Unpacking objects:  20% (1/5)\rUnpacking objects:  40% (2/5)\rUnpacking objects:  60% (3/5)\rUnpacking objects:  80% (4/5)\rUnpacking objects: 100% (5/5)\rUnpacking objects: 100% (5/5), 517 bytes | 258.00 KiB/s, done.\n",
            "From https://github.com/KhamessiTaha/PlanckDeep\n",
            " * branch            HEAD       -> FETCH_HEAD\n",
            "Updating 2cbf871..41ba430\n",
            "Fast-forward\n",
            " src/models.py           | 2 \u001b[32m+\u001b[m\u001b[31m-\u001b[m\n",
            " src/train_all_models.py | 1 \u001b[31m-\u001b[m\n",
            " 2 files changed, 1 insertion(+), 2 deletions(-)\n"
          ]
        }
      ]
    },
    {
      "cell_type": "code",
      "source": [
        "!python train_all_models.py \\\n",
        "  --patch_file ../data/cmb_patches_enhanced.npy \\\n",
        "  --label_file ../data/cmb_temperature_labels.npy \\\n",
        "  --models improved_cnn resnet physics_informed \\\n",
        "  --epochs 20 \\\n",
        "  --batch_size 32 \\\n",
        "  --use_class_weights \\\n",
        "  --use_early_stopping \\\n",
        "  --lr_scheduler cosine \\\n",
        "  --experiment_name deep_cmb_colab_run \\\n",
        "  $RESUME_FLAG\n"
      ],
      "metadata": {
        "id": "lS6ifFl3bTzk"
      },
      "execution_count": null,
      "outputs": []
    }
  ]
}
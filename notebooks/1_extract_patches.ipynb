{
 "cells": [
  {
   "cell_type": "code",
   "execution_count": null,
   "id": "262cba56",
   "metadata": {},
   "outputs": [],
   "source": [
    "import healpy as hp\n",
    "import numpy as np"
   ]
  },
  {
   "cell_type": "code",
   "execution_count": null,
   "id": "2655ef21",
   "metadata": {},
   "outputs": [],
   "source": [
    "cmb_map = hp.read_map(\"../data/COM_CMB_IQU-smica_2048_R3.00_full.fits\", field=0)"
   ]
  },
  {
   "cell_type": "code",
   "execution_count": null,
   "id": "d6317cb0",
   "metadata": {},
   "outputs": [],
   "source": [
    "# Function to extract patches\n",
    "def extract_patches(hmap, patch_size=64, num_patches=1000):\n",
    "    patches = []\n",
    "    for _ in range(num_patches):\n",
    "        theta = np.random.uniform(0, np.pi)\n",
    "        phi = np.random.uniform(0, 2*np.pi)\n",
    "        patch = hp.gnomview(hmap, rot=(np.degrees(phi), np.degrees(theta)),\n",
    "                            xsize=patch_size, return_projected_map=True, no_plot=True)\n",
    "        patches.append(patch)\n",
    "    return np.array(patches)"
   ]
  },
  {
   "cell_type": "code",
   "execution_count": null,
   "id": "9cc4005f",
   "metadata": {},
   "outputs": [],
   "source": [
    "# Run extraction\n",
    "patches = extract_patches(cmb_map)\n",
    "labels = np.random.randint(0, 2, size=(patches.shape[0],))  # dummy binary labels\n",
    "\n",
    "np.save(\"../data/cmb_patches.npy\", patches)\n",
    "np.save(\"../data/cmb_labels.npy\", labels)"
   ]
  },
  {
   "cell_type": "code",
   "execution_count": null,
   "id": "b80599fa",
   "metadata": {},
   "outputs": [],
   "source": []
  }
 ],
 "metadata": {
  "kernelspec": {
   "display_name": "Python 3",
   "language": "python",
   "name": "python3"
  },
  "language_info": {
   "name": "python",
   "version": "3.12.6"
  }
 },
 "nbformat": 4,
 "nbformat_minor": 5
}
